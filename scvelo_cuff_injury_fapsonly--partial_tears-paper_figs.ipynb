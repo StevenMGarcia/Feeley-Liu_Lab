{
 "cells": [
  {
   "cell_type": "code",
   "execution_count": null,
   "metadata": {},
   "outputs": [],
   "source": [
    "import scvelo as scv"
   ]
  },
  {
   "cell_type": "code",
   "execution_count": null,
   "metadata": {},
   "outputs": [],
   "source": [
    "sample=\"cuff\"\n",
    "files=\"../loomfiles/cuff_v1_faps_veloc\"\n",
    "\n",
    "\n",
    "folder=\"../loomfiles/\"\n",
    "adata=scv.read(files+'_dynamic.h5ad')"
   ]
  },
  {
   "cell_type": "code",
   "execution_count": null,
   "metadata": {
    "scrolled": false
   },
   "outputs": [],
   "source": [
    "adata"
   ]
  },
  {
   "cell_type": "code",
   "execution_count": null,
   "metadata": {},
   "outputs": [],
   "source": [
    "X_umap = scv.load(folder+ 'partial_cuff_v1_umap.csv', index_col=0)"
   ]
  },
  {
   "cell_type": "code",
   "execution_count": null,
   "metadata": {},
   "outputs": [],
   "source": [
    "X_umap.head"
   ]
  },
  {
   "cell_type": "code",
   "execution_count": null,
   "metadata": {},
   "outputs": [],
   "source": [
    "\n",
    "index=X_umap.index\n",
    "barcs_list=list(index)\n"
   ]
  },
  {
   "cell_type": "code",
   "execution_count": null,
   "metadata": {},
   "outputs": [],
   "source": [
    "adata=adata[barcs_list]\n",
    "adata\n",
    "adata.obsm['X_umap'] = X_umap.loc[adata.obs_names].values"
   ]
  },
  {
   "cell_type": "code",
   "execution_count": null,
   "metadata": {},
   "outputs": [],
   "source": [
    "X_clus=scv.load(folder + 'partial_cuff_v1_clusters.csv',index_col=0)"
   ]
  },
  {
   "cell_type": "code",
   "execution_count": null,
   "metadata": {},
   "outputs": [],
   "source": [
    "X_clus"
   ]
  },
  {
   "cell_type": "code",
   "execution_count": null,
   "metadata": {},
   "outputs": [],
   "source": [
    "adata.obs['clusters'] = X_clus.loc[adata.obs_names].values"
   ]
  },
  {
   "cell_type": "code",
   "execution_count": null,
   "metadata": {},
   "outputs": [],
   "source": [
    "df = adata.var\n",
    "df = df[(df['fit_likelihood'] > .1) & df['velocity_genes'] == True]\n",
    "\n",
    "kwargs = dict(xscale='log', fontsize=16)\n",
    "with scv.GridSpec(ncols=3) as pl:\n",
    "    pl.hist(df['fit_alpha'], xlabel='transcription rate', **kwargs)\n",
    "    pl.hist(df['fit_beta'] * df['fit_scaling'], xlabel='splicing rate', xticks=[.1, .4, 1], **kwargs)\n",
    "    pl.hist(df['fit_gamma'], xlabel='degradation rate', xticks=[.1, .4, 1], **kwargs)\n",
    "\n",
    "scv.get_df(adata, 'fit*', dropna=True).head()\n"
   ]
  },
  {
   "cell_type": "code",
   "execution_count": null,
   "metadata": {},
   "outputs": [],
   "source": [
    "scv.pp.neighbors(adata)"
   ]
  },
  {
   "cell_type": "code",
   "execution_count": null,
   "metadata": {
    "scrolled": true
   },
   "outputs": [],
   "source": [
    "scv.tl.velocity(adata, diff_kinetics=True)\n",
    "scv.tl.velocity_graph(adata)"
   ]
  },
  {
   "cell_type": "code",
   "execution_count": null,
   "metadata": {},
   "outputs": [],
   "source": [
    "color_pal=[\"#A6CEE3\", \"#1F78B4\", \"#B2DF8A\", \"#33A02C\", \"#faa6a5\", \"#E31A1C\", \"#FDBF6F\", \"#FF7F00\",\n",
    "           \"#CAB2D6\", \"#6A3D9A\", \"#FFFF99\"]\n",
    "scv.pl.velocity_embedding(adata, dpi=300, arrow_size=10, arrow_length=5,palette=color_pal,color='clusters')"
   ]
  },
  {
   "cell_type": "code",
   "execution_count": null,
   "metadata": {},
   "outputs": [],
   "source": [
    "color_pal=[\"#A6CEE3\", \"#1F78B4\", \"#B2DF8A\", \"#33A02C\", \"#faa6a5\", \"#E31A1C\", \"#FDBF6F\", \"#FF7F00\",\n",
    "           \"#CAB2D6\", \"#6A3D9A\", \"#FFFF99\"]\n",
    "scv.pl.velocity_embedding_stream(adata, dpi=600, basis='X_umap',color='clusters',\n",
    "                                 palette=color_pal, \n",
    "                                 density=3, arrow_style='-|>',arrow_color='black',\n",
    "                                fontsize=0, legend_loc='none', save = 'tracjectories')"
   ]
  },
  {
   "cell_type": "code",
   "execution_count": null,
   "metadata": {},
   "outputs": [],
   "source": [
    "\n",
    "scv.settings.set_figure_params('scvelo', dpi_save=200, dpi=600, transparent=True)\n",
    "scv.settings.plot_prefix = 'scvelo_fig6_partialcuff_'\n",
    "scv.settings.verbosity = 2\n",
    "\n",
    "scv.pl.velocity(adata, ['DLK1'], dpi=600, save='dlk1')\n",
    "scv.pl.velocity(adata, ['CD55'], dpi=600, save='cd55')\n",
    "scv.pl.velocity(adata, ['MME'], dpi=600, save='mme')\n",
    "scv.pl.velocity(adata, ['DPP4'], dpi=600, save='dpp4')\n",
    "scv.pl.velocity(adata, ['SCX'], dpi=600, save='scx')\n",
    "scv.pl.velocity(adata, ['GLI1'], dpi=600, save='gli1')\n",
    "scv.pl.velocity(adata, ['OSR1'], dpi=600, save='osr1')\n",
    "scv.pl.velocity(adata, ['OSR2'], dpi=600, save='osr2')\n",
    "scv.pl.velocity(adata, ['VCAM1'], dpi=600, save='vcam1')\n",
    "scv.pl.velocity(adata, ['SOX9'], dpi=600, save='sox9')\n",
    "scv.pl.velocity(adata, ['RUNX2'], dpi=600, save='runx2')\n",
    "scv.pl.velocity(adata, ['SEMA3C'], dpi=600, save='sema3c')\n",
    "scv.pl.velocity(adata, ['BMP4'], dpi=600, save='bmp4')\n",
    "scv.pl.velocity(adata, ['BMP5'], dpi=600, save='bmp5')\n",
    "scv.pl.velocity(adata, ['TPPP3'], dpi=600, save='tppp3')"
   ]
  }
 ],
 "metadata": {
  "kernelspec": {
   "display_name": "Python 3 (ipykernel)",
   "language": "python",
   "name": "python3"
  },
  "language_info": {
   "codemirror_mode": {
    "name": "ipython",
    "version": 3
   },
   "file_extension": ".py",
   "mimetype": "text/x-python",
   "name": "python",
   "nbconvert_exporter": "python",
   "pygments_lexer": "ipython3",
   "version": "3.9.7"
  }
 },
 "nbformat": 4,
 "nbformat_minor": 4
}
